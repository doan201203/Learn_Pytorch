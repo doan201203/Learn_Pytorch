import torch
import torch.nn as nn
import pandas as pd
import numpy as np

get_ipython().run_line_magic("config", " Completer.use_jedi = False")





df = pd.read_csv('./tvmarketing.csv')
df.head()





from sklearn.preprocessing import LabelEncoder
from sklearn.preprocessing import MinMaxScaler
for i in df.columns.values:
    if df[i].dtype != 'object':
        print(i)
        mm = MinMaxScaler(feature_range=(0,1))
        df[i] = mm.fit_transform(df[[i]])
df.head()


y = df['Sales']
x = df.drop(columns='Sales')

from sklearn.model_selection import train_test_split
x_train, x_test, y_train, y_test = train_test_split(x, y, random_state=42, shuffle=True)


class Net(nn.Module):
    def __init__(self, input_size, output_size):
        super(Net, self).__init__()
        self.linear = nn.Linear(input_size, output_size)
    def forward(self, x):
        out = self.linear(x)
        return out





device = torch.device("cuda" if torch.cuda.is_available() else "cpu")
print(device)

model = Net(len(df.columns.values) - 1, 1).to(device)
input_size = len(df.columns.values) - 1

optimizer = torch.optim.Adam(model.parameters())
citeration = nn.MSELoss()

num_epoch = 500

for i in range(num_epoch):
    inputs = torch.tensor(x_train.values, dtype=torch.float32).to(device)
    tagets = torch.tensor(y_train.values, dtype=torch.float32).to(device)

    #forward pass
    outputs = model(inputs)
    loss = citeration(outputs, tagets.data)

    #backward pass
    optimizer.zero_grad()
    loss.backward()
    optimizer.step()

    if (i + 1) % 5 == 0:
        print('epoch {}, loss: {}'.format(i + 1, loss.item()))


model.parameters()
for x in model.parameters():
    print(x)


import matplotlib.pyplot as plt

with torch.no_grad():
    predicted = model(torch.tensor(x_test.values, dtype=torch.float32).to(device))
    tagets = torch.
    print('loss: ', citeration(predicted, torch.tensor(y_test.values, dtype=torch.float32).to(device)).item())

    
